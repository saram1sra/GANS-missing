{
 "cells": [
  {
   "cell_type": "code",
   "execution_count": 2,
   "metadata": {},
   "outputs": [
    {
     "name": "stderr",
     "output_type": "stream",
     "text": [
      "Using TensorFlow backend.\n"
     ]
    }
   ],
   "source": [
    "# Libraries import \n",
    "import tensorflow as tf\n",
    "#from tensorflow_federated import python as tff\n",
    "import os\n",
    "import numpy as np\n",
    "from keras.layers import Input\n",
    "from keras.models import Model, Sequential\n",
    "from keras.layers.core import Dense, Dropout\n",
    "from keras.layers.advanced_activations import LeakyReLU\n",
    "from keras.datasets import mnist\n",
    "from keras.optimizers import Adam\n",
    "from keras import initializers\n",
    "from tqdm import tqdm"
   ]
  },
  {
   "cell_type": "code",
   "execution_count": 155,
   "metadata": {},
   "outputs": [
    {
     "data": {
      "image/png": "[encoded data removed]",
      "text/plain": [
       "<Figure size 432x288 with 12 Axes>"
      ]
     },
     "metadata": {
      "needs_background": "light"
     },
     "output_type": "display_data"
    }
   ],
   "source": [
    "# Load and Normalize Data \n",
    "# 1. MNIST/EMNIST Data - handwritten things \n",
    "from emnist import extract_training_samples\n",
    "def normalize(data, factor): \n",
    "    return ((data-factor)/factor)\n",
    "def load_handwritten_data(digits_only=True):\n",
    "    # load data\n",
    "    if(digits_only): \n",
    "        (x_train, y_train), (x_test, y_test) = mnist.load_data()\n",
    "    else: \n",
    "        x_, y_ = extract_training_samples('letters')\n",
    "        test_ind = np.random.randint(0, x_.shape[0], int(1/7*x_.shape[0]))\n",
    "        x_test, y_test = x_[test_ind,...], y_[test_ind,...]\n",
    "        x_train, y_train = np.delete(x_, test_ind, axis=0), np.delete(y_, test_ind,axis=0)\n",
    "    \n",
    "    # normalize data \n",
    "    normal_train_factor, normal_test_factor = np.max(x_train.flatten())/2, np.max(x_test.flatten())/2\n",
    "    x_train, x_test = normalize(x_train, normal_train_factor), normalize(x_test, normal_test_factor)\n",
    "    return(x_train, y_train, x_test, y_test)\n",
    "\n",
    "# 2. COCO Dataset - \n",
    "def load_COCO_images():\n",
    "    pass\n",
    "\n",
    "\n",
    "# Visualizing the images \n",
    "import matplotlib.pyplot as plt\n",
    "import math as m\n",
    "def plot_imgs(imgs, plt_per_lines=4): \n",
    "    %matplotlib inline\n",
    "    if(type(imgs) != list): \n",
    "        print(\"Please pass list of images\")\n",
    "        return\n",
    "    n = len(imgs)\n",
    "    fig, axs = plt.subplots(m.ceil(n/plt_per_lines),plt_per_lines)\n",
    "    for i,ax in enumerate(axs.flat):\n",
    "        if( i >= n): return\n",
    "        ax.imshow(imgs[i], cmap=\"gray\")\n",
    "    plt.show()\n",
    "\n",
    "train, y_train, test, y_test  = load_handwritten_data()\n",
    "plot_imgs([i for i in train[0:9, ...]])"
   ]
  },
  {
   "cell_type": "code",
   "execution_count": 156,
   "metadata": {},
   "outputs": [],
   "source": [
    "# Basic descriminator \n",
    "def discriminator(n_classes, image_shape): \n",
    "    dmod = Sequential()\n",
    "    dmod.add(Dense(512, activation ='sigmoid',input_shape=image_shape))\n",
    "    dmod.add(LeakyReLU(0.2))\n",
    "    dmod.add(Dropout(1-0.3)) #reduces overfitting \n",
    "    dmod.add(Dense(n_classes, activation='softmax'))\n",
    "    dmod.compile(optimizer='adam',\n",
    "                  loss='binary_crossentropy',\n",
    "                  metrics=[tf.keras.metrics.categorical_accuracy, 'accuracy'])\n",
    "    return dmod"
   ]
  },
  {
   "cell_type": "code",
   "execution_count": 87,
   "metadata": {},
   "outputs": [],
   "source": [
    "# Example descriminator - implemented here https://www.datacamp.com/community/tutorials/generative-adversarial-networks\n",
    "discriminator = Sequential()\n",
    "discriminator.add(Dense(1024, input_dim=784, kernel_initializer=initializers.RandomNormal(stddev=0.02)))\n",
    "discriminator.add(LeakyReLU(0.2))\n",
    "discriminator.add(Dropout(1-0.3))\n",
    "\n",
    "discriminator.add(Dense(512))\n",
    "discriminator.add(LeakyReLU(0.2))\n",
    "discriminator.add(Dropout(1-0.3))\n",
    "\n",
    "discriminator.add(Dense(256))\n",
    "discriminator.add(LeakyReLU(0.2))\n",
    "discriminator.add(Dropout(1-0.3))\n",
    "\n",
    "discriminator.add(Dense(1, activation='sigmoid'))\n",
    "discriminator.compile(loss='binary_crossentropy', optimizer=Adam(lr=0.0002, beta_1=0.5),  metrics=[tf.keras.metrics.categorical_accuracy, 'accuracy'])\n",
    "discriminator.evaluate(test.reshape(test.shape[0], test.shape[1]*test.shape[2]), y_test, batch_size=32)"
   ]
  },
  {
   "cell_type": "code",
   "execution_count": 158,
   "metadata": {},
   "outputs": [
    {
     "name": "stdout",
     "output_type": "stream",
     "text": [
      "Epoch 1/10\n",
      "60000/60000 [==============================] - 9s 148us/step - loss: 0.0827 - categorical_accuracy: 0.8453 - acc: 0.9711\n",
      "Epoch 2/10\n",
      "60000/60000 [==============================] - 8s 129us/step - loss: 0.0530 - categorical_accuracy: 0.9063 - acc: 0.9818\n",
      "Epoch 3/10\n",
      "60000/60000 [==============================] - 8s 131us/step - loss: 0.0461 - categorical_accuracy: 0.9180 - acc: 0.9840\n",
      "Epoch 4/10\n",
      "60000/60000 [==============================] - 8s 133us/step - loss: 0.0406 - categorical_accuracy: 0.9291 - acc: 0.9862\n",
      "Epoch 5/10\n",
      "60000/60000 [==============================] - 8s 129us/step - loss: 0.0386 - categorical_accuracy: 0.9313 - acc: 0.9867\n",
      "Epoch 6/10\n",
      "60000/60000 [==============================] - 8s 129us/step - loss: 0.0362 - categorical_accuracy: 0.9365 - acc: 0.9876\n",
      "Epoch 7/10\n",
      "60000/60000 [==============================] - 8s 131us/step - loss: 0.0351 - categorical_accuracy: 0.9387 - acc: 0.9880\n",
      "Epoch 8/10\n",
      "60000/60000 [==============================] - 8s 133us/step - loss: 0.0342 - categorical_accuracy: 0.9401 - acc: 0.9883\n",
      "Epoch 9/10\n",
      "60000/60000 [==============================] - 8s 128us/step - loss: 0.0331 - categorical_accuracy: 0.9418 - acc: 0.9887\n",
      "Epoch 10/10\n",
      "60000/60000 [==============================] - 8s 132us/step - loss: 0.0325 - categorical_accuracy: 0.9429 - acc: 0.9888\n",
      "10000/10000 [==============================] - 1s 50us/step\n"
     ]
    },
    {
     "data": {
      "text/plain": [
       "[0.01785312139845919, 0.9689, 0.9940099990844726]"
      ]
     },
     "execution_count": 158,
     "metadata": {},
     "output_type": "execute_result"
    }
   ],
   "source": [
    "# Train on MNIST\n",
    "train, y_train, test, y_test  = load_handwritten_data()\n",
    "y_ = np.eye(np.max(y_train)+1)[y_train.reshape(-1)]\n",
    "dmod = discriminator(np.max(y_train)+1, (train.shape[1]*train.shape[2],))\n",
    "dmod.fit(train.reshape(train.shape[0], -1), y_, epochs=10, batch_size=32 )\n",
    "\n",
    "# Test on MNIST\n",
    "y_t = np.eye(np.max(y_test)+1)[y_test.reshape(-1)]\n",
    "dmod.evaluate(test.reshape(test.shape[0], test.shape[1]*test.shape[2]), y_t, batch_size=32)"
   ]
  },
  {
   "cell_type": "code",
   "execution_count": 160,
   "metadata": {},
   "outputs": [
    {
     "name": "stdout",
     "output_type": "stream",
     "text": [
      "Epoch 1/10\n",
      "108140/108140 [==============================] - 16s 145us/step - loss: 0.0688 - categorical_accuracy: 0.6347 - acc: 0.9766\n",
      "Epoch 2/10\n",
      "108140/108140 [==============================] - 15s 137us/step - loss: 0.0500 - categorical_accuracy: 0.7403 - acc: 0.9824\n",
      "Epoch 3/10\n",
      "108140/108140 [==============================] - 15s 142us/step - loss: 0.0452 - categorical_accuracy: 0.7695 - acc: 0.9841\n",
      "Epoch 4/10\n",
      "108140/108140 [==============================] - 14s 128us/step - loss: 0.0428 - categorical_accuracy: 0.7786 - acc: 0.9848\n",
      "Epoch 5/10\n",
      "108140/108140 [==============================] - 15s 136us/step - loss: 0.0414 - categorical_accuracy: 0.7893 - acc: 0.9854\n",
      "Epoch 6/10\n",
      "108140/108140 [==============================] - 14s 134us/step - loss: 0.0405 - categorical_accuracy: 0.7924 - acc: 0.9856\n",
      "Epoch 7/10\n",
      "108140/108140 [==============================] - 15s 141us/step - loss: 0.0397 - categorical_accuracy: 0.7961 - acc: 0.9859\n",
      "Epoch 8/10\n",
      "108140/108140 [==============================] - 16s 145us/step - loss: 0.0389 - categorical_accuracy: 0.8018 - acc: 0.9862\n",
      "Epoch 9/10\n",
      "108140/108140 [==============================] - 15s 141us/step - loss: 0.0384 - categorical_accuracy: 0.8051 - acc: 0.9864\n",
      "Epoch 10/10\n",
      "108140/108140 [==============================] - 15s 138us/step - loss: 0.0378 - categorical_accuracy: 0.8064 - acc: 0.9866\n",
      "17828/17828 [==============================] - 1s 39us/step\n"
     ]
    },
    {
     "data": {
      "text/plain": [
       "[0.024976118354284364, 0.8760376935158178, 0.9911645736720013]"
      ]
     },
     "execution_count": 160,
     "metadata": {},
     "output_type": "execute_result"
    }
   ],
   "source": [
    "# Train on EMNIST\n",
    "etrain, eytrain, etest, eytest  = load_handwritten_data(False)\n",
    "ey_  = np.eye(np.max(eytrain)+1)[eytrain.reshape(-1)]\n",
    "dmod = discriminator(np.max(eytrain)+1, (etrain.shape[1]*etrain.shape[2],))\n",
    "dmod.fit(etrain.reshape(etrain.shape[0],-1), ey_, batch_size=32, epochs=10)\n",
    "\n",
    "# Test on EMNIST\n",
    "ey_t = np.eye(np.max(eytest)+1)[eytest.reshape(-1)]\n",
    "dmod.evaluate(etest.reshape(etest.shape[0], -1), ey_t, batch_size=32)"
   ]
  },
  {
   "cell_type": "code",
   "execution_count": 161,
   "metadata": {},
   "outputs": [],
   "source": [
    "# TODO\n",
    "# Train on COCO\n",
    "\n",
    "\n",
    "# Test on COCO"
   ]
  },
  {
   "cell_type": "code",
   "execution_count": null,
   "metadata": {},
   "outputs": [],
   "source": []
  }
 ],
 "metadata": {
  "kernelspec": {
   "display_name": "Python3 (tf-env)",
   "language": "python",
   "name": "py3env"
  },
  "language_info": {
   "codemirror_mode": {
    "name": "ipython",
    "version": 3
   },
   "file_extension": ".py",
   "mimetype": "text/x-python",
   "name": "python",
   "nbconvert_exporter": "python",
   "pygments_lexer": "ipython3",
   "version": "3.7.3"
  }
 },
 "nbformat": 4,
 "nbformat_minor": 2
}
